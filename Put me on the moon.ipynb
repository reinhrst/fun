{
 "cells": [
  {
   "cell_type": "code",
   "execution_count": 2,
   "metadata": {
    "collapsed": true
   },
   "outputs": [],
   "source": [
    "import math"
   ]
  },
  {
   "cell_type": "code",
   "execution_count": 3,
   "metadata": {
    "collapsed": true
   },
   "outputs": [],
   "source": [
    "earth_moon_distance = 384400000\n",
    "earth_radius = 6371000\n",
    "moon_radius = 1737100"
   ]
  },
  {
   "cell_type": "code",
   "execution_count": 4,
   "metadata": {
    "collapsed": false,
    "scrolled": true
   },
   "outputs": [
    {
     "name": "stdout",
     "output_type": "stream",
     "text": [
      "6.867338594628601e-05\n"
     ]
    }
   ],
   "source": [
    "suface_of_moon_sky_at_earth_distance = 4 * math.pi * earth_moon_distance**2\n",
    "surface_of_earth_disc_in_sky = math.pi * earth_radius**2\n",
    "earth_as_part_of_moon_sky = surface_of_earth_disc_in_sky / suface_of_moon_sky_at_earth_distance\n",
    "print(earth_as_part_of_moon_sky)"
   ]
  },
  {
   "cell_type": "markdown",
   "metadata": {},
   "source": [
    "[Wikipedia shows][1] that the energy from the sun at earth-distance is 1366 Watt per square meter. This will be the same for the moon.\n",
    "\n",
    "[The Moon's albedo is 0.136][2], meaning it reflects 13.6% of the sun's energy. \n",
    "\n",
    "[1]: https://en.wikipedia.org/wiki/Solar_irradiance\n",
    "[2]: https://en.wikipedia.org/wiki/Moonlight"
   ]
  },
  {
   "cell_type": "code",
   "execution_count": 5,
   "metadata": {
    "collapsed": false
   },
   "outputs": [
    {
     "name": "stdout",
     "output_type": "stream",
     "text": [
      "1761120696893726.2\n"
     ]
    }
   ],
   "source": [
    "sun_energy_per_square_meter = 1366\n",
    "moon_disc_in_sky_surface = math.pi * moon_radius**2\n",
    "moon_reflected_energy = moon_disc_in_sky_surface * sun_energy_per_square_meter * 0.136\n",
    "print(moon_reflected_energy)"
   ]
  },
  {
   "cell_type": "markdown",
   "metadata": {},
   "source": [
    "The moon's reflected energy is not reflected in all directions equally. However let's find a lower bound by assuming it is sent equally in all directions in the half-sphere that is let. Then we can calculate the amount of energy we receive on earth through moon-light:"
   ]
  },
  {
   "cell_type": "code",
   "execution_count": 6,
   "metadata": {
    "collapsed": false
   },
   "outputs": [
    {
     "name": "stdout",
     "output_type": "stream",
     "text": [
      "241884242631.55008\n"
     ]
    }
   ],
   "source": [
    "moon_energy_reaching_earth = moon_reflected_energy * (earth_as_part_of_moon_sky * 2)\n",
    "print(moon_energy_reaching_earth)"
   ]
  },
  {
   "cell_type": "markdown",
   "metadata": {},
   "source": [
    "We assume that our letters should burn at least as bright as the moon, and since the letters are 10% of the moon's disc surface:"
   ]
  },
  {
   "cell_type": "code",
   "execution_count": 7,
   "metadata": {
    "collapsed": false
   },
   "outputs": [
    {
     "name": "stdout",
     "output_type": "stream",
     "text": [
      "lamps output in energy: 24.2GW\n",
      "lamps input in energy: 60.5GW\n"
     ]
    }
   ],
   "source": [
    "lamps_energy_need = moon_energy_reaching_earth * 0.1\n",
    "print(\"lamps output in energy: %.1fGW\" % (lamps_energy_need / 10**9))\n",
    "LED_lamp_efficiency = 0.4\n",
    "print(\"lamps input in energy: %.1fGW\" % (lamps_energy_need / 10**9 / LED_lamp_efficiency))"
   ]
  },
  {
   "cell_type": "markdown",
   "metadata": {},
   "source": [
    "Since the lamps will be able to shine a lot less bright on the dark parts of the moon (which is 50% of the time) average energy usage will be 30GW, which is about 0.2% of [global energy consumption][1], or the total energy consumed by [a country like Switzerland][2]\n",
    "\n",
    "[1]: https://en.wikipedia.org/wiki/World_energy_consumption\n",
    "[2]: https://en.wikipedia.org/wiki/List_of_countries_by_energy_consumption_per_capita"
   ]
  }
 ],
 "metadata": {
  "kernelspec": {
   "display_name": "Python 3",
   "language": "python",
   "name": "python3"
  },
  "language_info": {
   "codemirror_mode": {
    "name": "ipython",
    "version": 3
   },
   "file_extension": ".py",
   "mimetype": "text/x-python",
   "name": "python",
   "nbconvert_exporter": "python",
   "pygments_lexer": "ipython3",
   "version": "3.4.3"
  }
 },
 "nbformat": 4,
 "nbformat_minor": 0
}
